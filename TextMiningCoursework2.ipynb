{
  "nbformat": 4,
  "nbformat_minor": 0,
  "metadata": {
    "colab": {
      "provenance": [],
      "include_colab_link": true
    },
    "kernelspec": {
      "name": "python3",
      "display_name": "Python 3"
    },
    "language_info": {
      "name": "python"
    }
  },
  "cells": [
    {
      "cell_type": "markdown",
      "metadata": {
        "id": "view-in-github",
        "colab_type": "text"
      },
      "source": [
        "<a href=\"https://colab.research.google.com/github/LastPudding/Text_Mining_LSTM/blob/main/TextMiningCoursework2.ipynb\" target=\"_parent\"><img src=\"https://colab.research.google.com/assets/colab-badge.svg\" alt=\"Open In Colab\"/></a>"
      ]
    },
    {
      "cell_type": "code",
      "execution_count": 41,
      "metadata": {
        "id": "MWwVQicUNeAt"
      },
      "outputs": [],
      "source": [
        "import numpy as np\n",
        "import spacy\n",
        "from tensorflow.keras.preprocessing.sequence import pad_sequences\n",
        "from tensorflow.keras.layers import Embedding, LSTM, Dense, Bidirectional, Concatenate, Input\n",
        "from tensorflow.keras.models import Model\n",
        "from keras.models import Sequential\n",
        "\n",
        "# Load spaCy English tokenizer\n",
        "nlp = spacy.load(\"en_core_web_sm\")"
      ]
    },
    {
      "cell_type": "code",
      "source": [
        "!ls"
      ],
      "metadata": {
        "id": "fVxD_S-Yj4G_",
        "colab": {
          "base_uri": "https://localhost:8080/"
        },
        "outputId": "9274cb1d-0441-4cfd-8644-417871bf1d5a"
      },
      "execution_count": 4,
      "outputs": [
        {
          "output_type": "stream",
          "name": "stdout",
          "text": [
            "sample_data\n"
          ]
        }
      ]
    },
    {
      "cell_type": "code",
      "source": [
        "def extract_triplets(file_path):\n",
        "    triplets = []\n",
        "    with open(file_path, 'r') as file:\n",
        "        for line in file:\n",
        "            line = line.strip()  # Remove leading/trailing whitespace\n",
        "            if line:  # Check if the line is not empty\n",
        "                # Split the line into individual triplets using the delimiter \"|\"\n",
        "                individual_triplets = line.split('|')\n",
        "                triplet_list = []\n",
        "                # Split each individual triplet into entities and relation\n",
        "                for triplet in individual_triplets:\n",
        "                    triplet_parts = triplet.strip().split(';')\n",
        "                    if len(triplet_parts) == 3:\n",
        "                        subject, related_entity, relation = [part.strip() for part in triplet_parts]\n",
        "                        triplet_list.append((subject, related_entity, relation))\n",
        "                triplets.append(triplet_list)\n",
        "    return triplets\n",
        "\n",
        "def read_document(file_path):\n",
        "    with open(file_path, 'r') as file:\n",
        "        lines = [line.strip() for line in file]\n",
        "    return lines\n",
        "\n",
        "# Function to tokenize sentences\n",
        "def tokenize_sentences(sentences):\n",
        "    tokenized_sentences = []\n",
        "    for sentence in sentences:\n",
        "        tokens = [token.text for token in nlp(sentence)]\n",
        "        tokenized_sentences.append(tokens)\n",
        "    return tokenized_sentences\n",
        "\n",
        "def encode_relations(triplets, relation_to_index):\n",
        "    encoded_triplets = []\n",
        "    for triplet_list in triplets:\n",
        "        encoded_triplet_list = []\n",
        "        for triplet in triplet_list:\n",
        "            encoded_triplet = [0] * len(relation_to_index)  # Initialize with zeros\n",
        "            relation = triplet[2]  # Extract the relation from the triplet\n",
        "            if relation in relation_to_index:\n",
        "                encoded_triplet[relation_to_index[relation]] = 1  # Set the corresponding index to 1\n",
        "            encoded_triplet_list.append(encoded_triplet)\n",
        "        encoded_triplets.append(encoded_triplet_list)\n",
        "    return encoded_triplets"
      ],
      "metadata": {
        "id": "D4cP28hVkQmx"
      },
      "execution_count": 5,
      "outputs": []
    },
    {
      "cell_type": "code",
      "source": [
        "# Extracting sentences and Triplets\n",
        "train_triplets, test_triplets = extract_triplets('train.tup'), extract_triplets('test.tup')\n",
        "train_sentences, test_sentences = read_document('train.sent'), read_document('test.sent')\n",
        "\n",
        "# Read unique relations from relations.txt\n",
        "unique_relations = read_document('relations.txt')\n",
        "num_unique_relations = len(unique_relations)\n",
        "\n",
        "#Create a mapping between each relation and its index\n",
        "relation_to_index = {relation: index for index, relation in enumerate(unique_relations)}\n",
        "\n",
        "\n"
      ],
      "metadata": {
        "id": "p79-UwfWqWx9"
      },
      "execution_count": 8,
      "outputs": []
    },
    {
      "cell_type": "code",
      "source": [
        "# Prepare input data\n",
        "X_sentences = tokenize_sentences(train_sentences)\n",
        "X_triplets = encode_relations(train_triplets, relation_to_index)\n",
        "\n",
        "# Define maximum sequence length\n",
        "max_seq_length = max(len(tokens) for tokens in X_sentences)"
      ],
      "metadata": {
        "id": "dTItY1qux3XW"
      },
      "execution_count": 9,
      "outputs": []
    },
    {
      "cell_type": "code",
      "source": [
        "#GPT\n",
        "def count_tokens(sentences, min_count=None):\n",
        "    token_counts = {}  # Create an empty dictionary to store tokens and their counts\n",
        "\n",
        "    # Iterate over each sentence\n",
        "    for sentence in sentences:\n",
        "        # Iterate over each token in the sentence\n",
        "        for token in sentence:\n",
        "            # Add the token to the dictionary and update the count\n",
        "            token_counts[token] = token_counts.get(token, 0) + 1\n",
        "\n",
        "    # Filter tokens by minimum count if specified\n",
        "    if min_count is not None:\n",
        "        token_counts = {token: count for token, count in token_counts.items() if count > min_count}\n",
        "\n",
        "    # Sort the dictionary by value (token counts) in descending order\n",
        "    token_counts = dict(sorted(token_counts.items(), key=lambda x: x[1], reverse=True))\n",
        "\n",
        "    return token_counts\n",
        "len(count_tokens(X_sentences,1))\n",
        "\n"
      ],
      "metadata": {
        "colab": {
          "base_uri": "https://localhost:8080/"
        },
        "id": "uaPChT1XNb8X",
        "outputId": "91371518-2222-4550-be50-80cae36068ef"
      },
      "execution_count": 31,
      "outputs": [
        {
          "output_type": "execute_result",
          "data": {
            "text/plain": [
              "11902"
            ]
          },
          "metadata": {},
          "execution_count": 31
        }
      ]
    },
    {
      "cell_type": "code",
      "source": [
        "#https://medium.com/southpigalle/simple-relation-extraction-with-a-bi-lstm-model-part-1-682b670d5e11\n",
        "X_sentences_padded = pad_sequences(X_triplets, maxlen=max_seq_length, padding='post')\n",
        "\n",
        "embedding_dim = 100\n",
        "lstm_units = 64\n",
        "vocab_size=12000\n",
        "\n",
        "embedding_size = 300\n",
        "model = Sequential()\n",
        "model.add(Embedding(vocab_size, embedding_dim, input_length=X_sentences_padded.shape[1]))\n",
        "model.add(Bidirectional(LSTM(128, dropout=0.7, recurrent_dropout=0.7)))\n",
        "model.add(Dense(len(unique_relations), activation='softmax'))\n",
        "model.compile(optimizer='adam', loss='categorical_crossentropy', metrics=['acc'])\n",
        "print(model.summary())"
      ],
      "metadata": {
        "colab": {
          "base_uri": "https://localhost:8080/"
        },
        "id": "iG9I9HyuazSc",
        "outputId": "e6a1b48c-898f-43bf-ef3b-9dba299a28be"
      },
      "execution_count": 44,
      "outputs": [
        {
          "output_type": "stream",
          "name": "stdout",
          "text": [
            "Model: \"sequential_2\"\n",
            "_________________________________________________________________\n",
            " Layer (type)                Output Shape              Param #   \n",
            "=================================================================\n",
            " embedding_3 (Embedding)     (None, 1515, 100)         1200000   \n",
            "                                                                 \n",
            " bidirectional_3 (Bidirecti  (None, 256)               234496    \n",
            " onal)                                                           \n",
            "                                                                 \n",
            " dense (Dense)               (None, 29)                7453      \n",
            "                                                                 \n",
            "=================================================================\n",
            "Total params: 1441949 (5.50 MB)\n",
            "Trainable params: 1441949 (5.50 MB)\n",
            "Non-trainable params: 0 (0.00 Byte)\n",
            "_________________________________________________________________\n",
            "None\n"
          ]
        }
      ]
    },
    {
      "cell_type": "code",
      "source": [
        "# Pad sentences to max sequence length\n",
        "X_sentences_padded = pad_sequences(X_triplets, maxlen=max_seq_length, padding='post')\n",
        "\n",
        "# Define LSTM model\n",
        "embedding_dim = 100\n",
        "lstm_units = 64\n",
        "vocab_size=12000\n",
        "\n",
        "sentence_input = Input(shape=(max_seq_length,), dtype='int32')\n",
        "triplets_input = Input(shape=(None, len(unique_relations)), dtype='int32')\n",
        "\n",
        "embedding_layer = Embedding(input_dim=vocab_size, output_dim=embedding_dim, input_length=max_seq_length)(sentence_input)\n",
        "lstm_layer = Bidirectional(LSTM(lstm_units))(embedding_layer)\n",
        "\n",
        "concatenated_input = Concatenate()([lstm_layer, triplets_input])\n",
        "output_layer = Dense(len(unique_relations), activation='softmax')(concatenated_input)\n",
        "\n",
        "model = Sequential()\n",
        "model.add(embedding_layer)\n",
        "model.add(lstm_layer)\n",
        "model.add(output_layer)\n",
        "model.compile(optimizer='adam', loss='categorical_crossentropy', metrics=['acc'])\n",
        "print(model.summary())\n",
        "# model = Model(inputs=[sentence_input, triplets_input], outputs=output_layer)\n",
        "\n",
        "# model.compile(optimizer='adam', loss='categorical_crossentropy', metrics=['accuracy'])\n",
        "# model.summary()"
      ],
      "metadata": {
        "colab": {
          "base_uri": "https://localhost:8080/",
          "height": 373
        },
        "id": "CAS3cAiCz3kp",
        "outputId": "6e3c69df-4dbf-44f7-f9bd-fbdac7c67643"
      },
      "execution_count": 32,
      "outputs": [
        {
          "output_type": "error",
          "ename": "ValueError",
          "evalue": "A `Concatenate` layer requires inputs with matching shapes except for the concatenation axis. Received: input_shape=[(None, 128), (None, None, 29)]",
          "traceback": [
            "\u001b[0;31m---------------------------------------------------------------------------\u001b[0m",
            "\u001b[0;31mValueError\u001b[0m                                Traceback (most recent call last)",
            "\u001b[0;32m<ipython-input-32-6e2a718ca33f>\u001b[0m in \u001b[0;36m<cell line: 15>\u001b[0;34m()\u001b[0m\n\u001b[1;32m     13\u001b[0m \u001b[0mlstm_layer\u001b[0m \u001b[0;34m=\u001b[0m \u001b[0mBidirectional\u001b[0m\u001b[0;34m(\u001b[0m\u001b[0mLSTM\u001b[0m\u001b[0;34m(\u001b[0m\u001b[0mlstm_units\u001b[0m\u001b[0;34m)\u001b[0m\u001b[0;34m)\u001b[0m\u001b[0;34m(\u001b[0m\u001b[0membedding_layer\u001b[0m\u001b[0;34m)\u001b[0m\u001b[0;34m\u001b[0m\u001b[0;34m\u001b[0m\u001b[0m\n\u001b[1;32m     14\u001b[0m \u001b[0;34m\u001b[0m\u001b[0m\n\u001b[0;32m---> 15\u001b[0;31m \u001b[0mconcatenated_input\u001b[0m \u001b[0;34m=\u001b[0m \u001b[0mConcatenate\u001b[0m\u001b[0;34m(\u001b[0m\u001b[0;34m)\u001b[0m\u001b[0;34m(\u001b[0m\u001b[0;34m[\u001b[0m\u001b[0mlstm_layer\u001b[0m\u001b[0;34m,\u001b[0m \u001b[0mtriplets_input\u001b[0m\u001b[0;34m]\u001b[0m\u001b[0;34m)\u001b[0m\u001b[0;34m\u001b[0m\u001b[0;34m\u001b[0m\u001b[0m\n\u001b[0m\u001b[1;32m     16\u001b[0m \u001b[0moutput_layer\u001b[0m \u001b[0;34m=\u001b[0m \u001b[0mDense\u001b[0m\u001b[0;34m(\u001b[0m\u001b[0mlen\u001b[0m\u001b[0;34m(\u001b[0m\u001b[0munique_relations\u001b[0m\u001b[0;34m)\u001b[0m\u001b[0;34m,\u001b[0m \u001b[0mactivation\u001b[0m\u001b[0;34m=\u001b[0m\u001b[0;34m'softmax'\u001b[0m\u001b[0;34m)\u001b[0m\u001b[0;34m(\u001b[0m\u001b[0mconcatenated_input\u001b[0m\u001b[0;34m)\u001b[0m\u001b[0;34m\u001b[0m\u001b[0;34m\u001b[0m\u001b[0m\n\u001b[1;32m     17\u001b[0m \u001b[0;34m\u001b[0m\u001b[0m\n",
            "\u001b[0;32m/usr/local/lib/python3.10/dist-packages/keras/src/utils/traceback_utils.py\u001b[0m in \u001b[0;36merror_handler\u001b[0;34m(*args, **kwargs)\u001b[0m\n\u001b[1;32m     68\u001b[0m             \u001b[0;31m# To get the full stack trace, call:\u001b[0m\u001b[0;34m\u001b[0m\u001b[0;34m\u001b[0m\u001b[0m\n\u001b[1;32m     69\u001b[0m             \u001b[0;31m# `tf.debugging.disable_traceback_filtering()`\u001b[0m\u001b[0;34m\u001b[0m\u001b[0;34m\u001b[0m\u001b[0m\n\u001b[0;32m---> 70\u001b[0;31m             \u001b[0;32mraise\u001b[0m \u001b[0me\u001b[0m\u001b[0;34m.\u001b[0m\u001b[0mwith_traceback\u001b[0m\u001b[0;34m(\u001b[0m\u001b[0mfiltered_tb\u001b[0m\u001b[0;34m)\u001b[0m \u001b[0;32mfrom\u001b[0m \u001b[0;32mNone\u001b[0m\u001b[0;34m\u001b[0m\u001b[0;34m\u001b[0m\u001b[0m\n\u001b[0m\u001b[1;32m     71\u001b[0m         \u001b[0;32mfinally\u001b[0m\u001b[0;34m:\u001b[0m\u001b[0;34m\u001b[0m\u001b[0;34m\u001b[0m\u001b[0m\n\u001b[1;32m     72\u001b[0m             \u001b[0;32mdel\u001b[0m \u001b[0mfiltered_tb\u001b[0m\u001b[0;34m\u001b[0m\u001b[0;34m\u001b[0m\u001b[0m\n",
            "\u001b[0;32m/usr/local/lib/python3.10/dist-packages/keras/src/layers/merging/concatenate.py\u001b[0m in \u001b[0;36mbuild\u001b[0;34m(self, input_shape)\u001b[0m\n\u001b[1;32m    117\u001b[0m             \u001b[0mranks\u001b[0m \u001b[0;34m=\u001b[0m \u001b[0mset\u001b[0m\u001b[0;34m(\u001b[0m\u001b[0mlen\u001b[0m\u001b[0;34m(\u001b[0m\u001b[0mshape\u001b[0m\u001b[0;34m)\u001b[0m \u001b[0;32mfor\u001b[0m \u001b[0mshape\u001b[0m \u001b[0;32min\u001b[0m \u001b[0mshape_set\u001b[0m\u001b[0;34m)\u001b[0m\u001b[0;34m\u001b[0m\u001b[0;34m\u001b[0m\u001b[0m\n\u001b[1;32m    118\u001b[0m             \u001b[0;32mif\u001b[0m \u001b[0mlen\u001b[0m\u001b[0;34m(\u001b[0m\u001b[0mranks\u001b[0m\u001b[0;34m)\u001b[0m \u001b[0;34m!=\u001b[0m \u001b[0;36m1\u001b[0m\u001b[0;34m:\u001b[0m\u001b[0;34m\u001b[0m\u001b[0;34m\u001b[0m\u001b[0m\n\u001b[0;32m--> 119\u001b[0;31m                 \u001b[0;32mraise\u001b[0m \u001b[0mValueError\u001b[0m\u001b[0;34m(\u001b[0m\u001b[0merr_msg\u001b[0m\u001b[0;34m)\u001b[0m\u001b[0;34m\u001b[0m\u001b[0;34m\u001b[0m\u001b[0m\n\u001b[0m\u001b[1;32m    120\u001b[0m             \u001b[0;31m# Get the only rank for the set.\u001b[0m\u001b[0;34m\u001b[0m\u001b[0;34m\u001b[0m\u001b[0m\n\u001b[1;32m    121\u001b[0m             \u001b[0;34m(\u001b[0m\u001b[0mrank\u001b[0m\u001b[0;34m,\u001b[0m\u001b[0;34m)\u001b[0m \u001b[0;34m=\u001b[0m \u001b[0mranks\u001b[0m\u001b[0;34m\u001b[0m\u001b[0;34m\u001b[0m\u001b[0m\n",
            "\u001b[0;31mValueError\u001b[0m: A `Concatenate` layer requires inputs with matching shapes except for the concatenation axis. Received: input_shape=[(None, 128), (None, None, 29)]"
          ]
        }
      ]
    }
  ]
}